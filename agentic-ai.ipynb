{
  "nbformat": 4,
  "nbformat_minor": 0,
  "metadata": {
    "colab": {
      "provenance": [],
      "authorship_tag": "ABX9TyOUzEhXPLV1b6uRgGo4FnTz",
      "include_colab_link": true
    },
    "kernelspec": {
      "name": "python3",
      "display_name": "Python 3"
    },
    "language_info": {
      "name": "python"
    }
  },
  "cells": [
    {
      "cell_type": "markdown",
      "metadata": {
        "id": "view-in-github",
        "colab_type": "text"
      },
      "source": [
        "<a href=\"https://colab.research.google.com/github/Arpitapal30/Agentic_AI/blob/main/agentic-ai.ipynb\" target=\"_parent\"><img src=\"https://colab.research.google.com/assets/colab-badge.svg\" alt=\"Open In Colab\"/></a>"
      ]
    },
    {
      "cell_type": "code",
      "source": [
        "import os\n",
        "os.environ[\"OPENAI_API_KEY\"] =\"*************************************************\""
      ],
      "metadata": {
        "id": "s7qe6qXKqYEQ"
      },
      "execution_count": 39,
      "outputs": []
    },
    {
      "cell_type": "code",
      "source": [
        "!pip install -q langchain-openai langchain-community langchain-core requests duckduckgo-search"
      ],
      "metadata": {
        "id": "zTRobIFnqYBP"
      },
      "execution_count": 40,
      "outputs": []
    },
    {
      "cell_type": "code",
      "source": [
        "!pip install -qU duckduckgo-search langchain-community"
      ],
      "metadata": {
        "id": "inCRnoq7sSiw"
      },
      "execution_count": 41,
      "outputs": []
    },
    {
      "cell_type": "code",
      "source": [
        "from langchain_openai import ChatOpenAI\n",
        "from langchain_core.tools import tool\n",
        "import requests"
      ],
      "metadata": {
        "id": "zU8BS6HtqX-6"
      },
      "execution_count": 42,
      "outputs": []
    },
    {
      "cell_type": "code",
      "source": [
        "#!pip install -U duckduckgo-search langchain-community"
      ],
      "metadata": {
        "id": "TrMYIU-DzRSe"
      },
      "execution_count": 34,
      "outputs": []
    },
    {
      "cell_type": "code",
      "source": [
        "from langchain_community.tools import DuckDuckGoSearchRun,DuckDuckGoSearchResults\n",
        "\n",
        "search = DuckDuckGoSearchResults()\n",
        "\n",
        "result = search.invoke(\"Obama's first name?\")\n",
        "\n",
        "\n",
        "\n"
      ],
      "metadata": {
        "id": "RqAcjRgNqX8k"
      },
      "execution_count": 45,
      "outputs": []
    },
    {
      "cell_type": "code",
      "source": [
        "@tool\n",
        "def get_weather_data(city: str) -> str:\n",
        "  \"\"\"\n",
        "  This function fetches the current weather data for a given city\n",
        "  \"\"\"\n",
        "  url = f'https://api.weatherstack.com/current?access_key=7419b2f429694202192ab10d6662ae55&query={city}'\n",
        "\n",
        "  response = requests.get(url)\n",
        "\n",
        "  return response.json()"
      ],
      "metadata": {
        "id": "UQAK6-nbuwEF"
      },
      "execution_count": 46,
      "outputs": []
    },
    {
      "cell_type": "code",
      "source": [
        "llm = ChatOpenAI()"
      ],
      "metadata": {
        "id": "Wr2I4jqwqX5R"
      },
      "execution_count": 47,
      "outputs": []
    },
    {
      "cell_type": "code",
      "source": [
        "#llm.invoke('hi')"
      ],
      "metadata": {
        "id": "dfhKgXtCqX2Y"
      },
      "execution_count": 22,
      "outputs": []
    },
    {
      "cell_type": "code",
      "source": [
        "from langchain.agents import create_react_agent, AgentExecutor\n",
        "from langchain import hub"
      ],
      "metadata": {
        "id": "hK3_3iQFqXz-"
      },
      "execution_count": 48,
      "outputs": []
    },
    {
      "cell_type": "code",
      "source": [
        "# Step 2: Pull the ReAct prompt from LangChain Hub\n",
        "prompt = hub.pull(\"hwchase17/react\")  # pulls the standard ReAct agent prompt"
      ],
      "metadata": {
        "colab": {
          "base_uri": "https://localhost:8080/"
        },
        "id": "WnmuvK5pqXxV",
        "outputId": "42352828-ffab-4e6c-939c-c079b1eedec2"
      },
      "execution_count": 49,
      "outputs": [
        {
          "output_type": "stream",
          "name": "stderr",
          "text": [
            "/usr/local/lib/python3.11/dist-packages/langsmith/client.py:272: LangSmithMissingAPIKeyWarning: API key must be provided when using hosted LangSmith API\n",
            "  warnings.warn(\n"
          ]
        }
      ]
    },
    {
      "cell_type": "code",
      "source": [
        "# Step 3: Create the ReAct agent manually with the pulled prompt (agent1)\n",
        "agent = create_react_agent(\n",
        "    llm=llm,\n",
        "    tools=[search_tool, get_weather_data],\n",
        "    prompt=prompt\n",
        ")"
      ],
      "metadata": {
        "id": "6zC6y23WqXvF"
      },
      "execution_count": 51,
      "outputs": []
    },
    {
      "cell_type": "code",
      "source": [
        "# Step 4: Wrap it with AgentExecutor\n",
        "agent_executor = AgentExecutor(\n",
        "    agent=agent,\n",
        "    tools=[search_tool, get_weather_data],\n",
        "    verbose=True\n",
        ")"
      ],
      "metadata": {
        "id": "g2Vnhs22qXsM"
      },
      "execution_count": 52,
      "outputs": []
    },
    {
      "cell_type": "code",
      "source": [
        "# Step 5: Invoke\n",
        "response = agent_executor.invoke({\"input\": \"Find the capital of Madhya Pradesh, then find it's current weather condition\"})\n",
        "print(response)"
      ],
      "metadata": {
        "colab": {
          "base_uri": "https://localhost:8080/"
        },
        "id": "x3xiOA90qXqM",
        "outputId": "c592e239-4f03-4b65-8166-d02e53a3bced"
      },
      "execution_count": 53,
      "outputs": [
        {
          "output_type": "stream",
          "name": "stdout",
          "text": [
            "\n",
            "\n",
            "\u001b[1m> Entering new AgentExecutor chain...\u001b[0m\n",
            "\u001b[32;1m\u001b[1;3mI should first search for the capital of Madhya Pradesh and then fetch the current weather data for that city.\n",
            "Action: duckduckgo_search\n",
            "Action Input: \"Capital of Madhya Pradesh\"\u001b[0m\u001b[36;1m\u001b[1;3mMadhya Pradesh, state of India that is situated in the heart of the country. It has no coastline and no international frontier. Its physiography is characterized by low hills, extensive plateaus, and river valleys. The capital is Bhopal, in the west-central part of the state. Bhopal, city, capital of Madhya Pradesh state, central India. Situated in the fertile plain of the Malwa Plateau, the city lies just north of the Vindhya Range, along the slopes of a sandstone ridge. It is a major rail junction and has an airport. Pop. (2001) 1,437,354; (2011) 1,798,218. Bhopal was Indore (/ ɪ n ˈ d ɔːr / ⓘ; ISO: Indaura, Hindi: [ɪn̪d̪ɔːr]) is the largest and most populous city in the Indian state of Madhya Pradesh. [15] It is the commercial hub of Madhya Pradesh. It is consistently ranked as the cleanest city in India. [16] It serves as the headquarters of both the Indore District and the Indore Division.It is also considered the state education hub and ... In 1948, Madhya Bharat was created, with Indore designated as its summer capital and Gwalior as its winter capital. This arrangement highlights Indore's significance even then. However, Madhya Bharat was a temporary entity, and the map of central India was soon to be redrawn. The Creation of Madhya Pradesh In 1956, Bhopal became part of the state of Madhya Pradesh. Bhopal district was carved out on October 2, 1972, and is one of the 45 districts in the state. 4. Why is Bhopal famous? Bhopal is the capital city of the Indian state of Madhya Pradesh. It is known as the City of Lakes due to the presence of various natural and artificial lakes.\u001b[0m\u001b[32;1m\u001b[1;3mNow that I know the capital of Madhya Pradesh is Bhopal, I should get the current weather data for Bhopal.\n",
            "Action: get_weather_data\n",
            "Action Input: \"Bhopal\"\u001b[0m\u001b[33;1m\u001b[1;3m{'request': {'type': 'City', 'query': 'Bhopal, India', 'language': 'en', 'unit': 'm'}, 'location': {'name': 'Bhopal', 'country': 'India', 'region': 'Madhya Pradesh', 'lat': '23.267', 'lon': '77.400', 'timezone_id': 'Asia/Kolkata', 'localtime': '2025-05-14 13:34', 'localtime_epoch': 1747229640, 'utc_offset': '5.50'}, 'current': {'observation_time': '08:04 AM', 'temperature': 35, 'weather_code': 116, 'weather_icons': ['https://cdn.worldweatheronline.com/images/wsymbols01_png_64/wsymbol_0002_sunny_intervals.png'], 'weather_descriptions': ['Partly cloudy'], 'astro': {'sunrise': '05:40 AM', 'sunset': '06:54 PM', 'moonrise': '08:36 PM', 'moonset': '06:24 AM', 'moon_phase': 'Waning Gibbous', 'moon_illumination': 98}, 'air_quality': {'co': '468.05', 'no2': '6.475', 'o3': '112', 'so2': '14.43', 'pm2_5': '68.45', 'pm10': '90.835', 'us-epa-index': '4', 'gb-defra-index': '4'}, 'wind_speed': 9, 'wind_degree': 279, 'wind_dir': 'W', 'pressure': 1009, 'precip': 0, 'humidity': 32, 'cloudcover': 50, 'feelslike': 34, 'uv_index': 10, 'visibility': 6, 'is_day': 'yes'}}\u001b[0m\u001b[32;1m\u001b[1;3mI now know that the capital of Madhya Pradesh is Bhopal and the current weather condition in Bhopal is partly cloudy with a temperature of 35°C.\n",
            "Final Answer: The capital of Madhya Pradesh is Bhopal and the current weather condition in Bhopal is partly cloudy with a temperature of 35°C.\u001b[0m\n",
            "\n",
            "\u001b[1m> Finished chain.\u001b[0m\n",
            "{'input': \"Find the capital of Madhya Pradesh, then find it's current weather condition\", 'output': 'The capital of Madhya Pradesh is Bhopal and the current weather condition in Bhopal is partly cloudy with a temperature of 35°C.'}\n"
          ]
        }
      ]
    },
    {
      "cell_type": "code",
      "source": [
        "response['output']"
      ],
      "metadata": {
        "colab": {
          "base_uri": "https://localhost:8080/",
          "height": 35
        },
        "id": "iikNt7TxqXi3",
        "outputId": "9445e3ce-4dc0-4df2-9b71-a62f2ebe57d1"
      },
      "execution_count": 54,
      "outputs": [
        {
          "output_type": "execute_result",
          "data": {
            "text/plain": [
              "'The capital of Madhya Pradesh is Bhopal and the current weather condition in Bhopal is partly cloudy with a temperature of 35°C.'"
            ],
            "application/vnd.google.colaboratory.intrinsic+json": {
              "type": "string"
            }
          },
          "metadata": {},
          "execution_count": 54
        }
      ]
    },
    {
      "cell_type": "code",
      "execution_count": null,
      "metadata": {
        "id": "7J7N5YR-qWU_"
      },
      "outputs": [],
      "source": []
    }
  ]
}